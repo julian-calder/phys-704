{
 "cells": [
  {
   "cell_type": "markdown",
   "id": "dd647e79-043b-455f-953e-13ad0dec0ba9",
   "metadata": {},
   "source": [
    "## Process 4x4 lattice spin configurations into graphable data"
   ]
  },
  {
   "cell_type": "code",
   "execution_count": 21,
   "id": "d757741d-c3d2-4b7f-a472-d024afa15552",
   "metadata": {},
   "outputs": [
    {
     "ename": "AttributeError",
     "evalue": "'numpy.ndarray' object has no attribute 'append'",
     "output_type": "error",
     "traceback": [
      "\u001b[0;31m---------------------------------------------------------------------------\u001b[0m",
      "\u001b[0;31mAttributeError\u001b[0m                            Traceback (most recent call last)",
      "Cell \u001b[0;32mIn[21], line 19\u001b[0m\n\u001b[1;32m     17\u001b[0m     \u001b[38;5;28;01mfor\u001b[39;00m item \u001b[38;5;129;01min\u001b[39;00m row:\n\u001b[1;32m     18\u001b[0m         raw_spin_configs\n\u001b[0;32m---> 19\u001b[0m     \u001b[43mraw_spin_configs\u001b[49m\u001b[38;5;241;43m.\u001b[39;49m\u001b[43mappend\u001b[49m(row)\n\u001b[1;32m     21\u001b[0m \u001b[38;5;66;03m# initialize dictionary to store temperature data and corresponding spin configurations\u001b[39;00m\n\u001b[1;32m     22\u001b[0m data_dict \u001b[38;5;241m=\u001b[39m {}\n",
      "\u001b[0;31mAttributeError\u001b[0m: 'numpy.ndarray' object has no attribute 'append'"
     ]
    }
   ],
   "source": [
    "FILENAME = \"image4x4\"\n",
    "TEMP_VALS = [0.25, 4.75]\n",
    "NUM_TEMPS = len(TEMP_VALS)\n",
    "NUM_BINS = 10000\n",
    "L = 4\n",
    "\n",
    "import matplotlib.pyplot as plt\n",
    "import numpy as np\n",
    "\n",
    "file_string = \"../spinConfigs_\" + FILENAME + \".txt\"\n",
    "\n",
    "raw_spin_configs = np.zeros(shape=(NUM_TEMPS,NUM_BINS,L,L))\n",
    "\n",
    "spin_configs_file = open(file_string, \"r\")\n",
    "for row in spin_configs_file:\n",
    "    row = row.split()\n",
    "    for item in row:\n",
    "        raw_spin_configs\n",
    "    raw_spin_configs.append(row)\n",
    "\n",
    "# initialize dictionary to store temperature data and corresponding spin configurations\n",
    "data_dict = {}\n",
    "\n",
    "# populate keys for dictionary from temperature values\n",
    "for val in TEMP_VALS:\n",
    "    data_dict[val] = np.zeros(shape=(NUM_TEMPS, NUM_BINS))\n",
    "\n",
    "# collect each set of 10000 spin configurations\n",
    "for temp in range(NUM_TEMPS):\n",
    "    for bin in range(NUM_BINS):\n",
    "        data_dict[TEMP_VALS[temp]].append(raw_spin_configs[(temp * NUM_BINS) + bin])\n",
    "\n",
    "    # convert all data to integers\n",
    "    for entry in data_dict[TEMP_VALS[temp]]:\n",
    "        for index in range(L*L):\n",
    "            entry[index] = int(entry[index])\n",
    "            if entry[index] == -1:\n",
    "                entry[index] = 0\n",
    "\n",
    "    # convert each entry to numpy array\n",
    "    data_dict[TEMP_VALS[temp]] = np.array(data_dict[TEMP_VALS[temp]])\n",
    "\n",
    "square_data_dict = {}\n",
    "\n",
    "# reshape dictionary arrays into LxL instead of \n",
    "for temp in range(NUM_TEMPS):\n",
    "    square_data_dict[TEMP_VALS[temp]] = data_dict[TEMP_VALS[temp]].reshape(NUM_BINS, L, L)\n",
    "\n",
    "train_labels = np.ones(NUM_BINS)"
   ]
  },
  {
   "cell_type": "code",
   "execution_count": 18,
   "id": "df7cdcbe-cf6d-460e-b544-9f1fc9dc6144",
   "metadata": {},
   "outputs": [
    {
     "data": {
      "image/png": "[encoded data removed]",
      "text/plain": [
       "<Figure size 1000x1000 with 25 Axes>"
      ]
     },
     "metadata": {},
     "output_type": "display_data"
    }
   ],
   "source": [
    "import tensorflow as tf\n",
    "\n",
    "plt.figure(figsize=(10,10))\n",
    "plt.suptitle(\"4x4 lattice at T=4.75\")\n",
    "for i in range(25):\n",
    "    plt.subplot(5,5,i+1)\n",
    "    plt.xticks([])\n",
    "    plt.yticks([])\n",
    "    plt.grid(False)\n",
    "    plt.imshow(square_data_dict[4.75][i], cmap=plt.cm.binary)\n",
    "plt.show()"
   ]
  },
  {
   "cell_type": "markdown",
   "id": "b8524408-e503-4015-9a7f-586f137d3c42",
   "metadata": {},
   "source": [
    "## Do the same for 8x8!"
   ]
  },
  {
   "cell_type": "code",
   "execution_count": 19,
   "id": "afd00196-6a16-414b-b201-d5c7b3fc30c9",
   "metadata": {},
   "outputs": [],
   "source": [
    "class_names = ['Below T_c', 'Above T_c']"
   ]
  },
  {
   "cell_type": "code",
   "execution_count": 94,
   "id": "304e3f8a-ab19-48a6-bd47-07a82d3693db",
   "metadata": {},
   "outputs": [],
   "source": [
    "FILENAME = \"image8x8\"\n",
    "\n",
    "TEMP_VALS = [0.25, 4.75]\n",
    "NUM_TEMPS = len(TEMP_VALS)\n",
    "NUM_BINS = 10000\n",
    "TRAIN_BINS = int(0.8 * NUM_BINS)\n",
    "TEST_BINS = int(0.2 * NUM_BINS)\n",
    "NUM_TRAIN = int(TRAIN_BINS * NUM_TEMPS)\n",
    "NUM_TEST = int(TEST_BINS * NUM_TEMPS)\n",
    "\n",
    "L = 8\n",
    "\n",
    "import matplotlib.pyplot as plt\n",
    "import numpy as np\n",
    "\n",
    "file_string = \"../data/spinconfigs/spinConfigs_\" + FILENAME + \".txt\"\n",
    "\n",
    "data = np.loadtxt(file_string)\n",
    "\n",
    "raw_spin_configs = np.zeros(shape=(NUM_TEMPS, NUM_BINS, L, L))\n",
    "\n",
    "data_dict = {}\n",
    "\n",
    "# initialize data dictionary\n",
    "for temp in range(NUM_TEMPS):\n",
    "    data_dict[TEMP_VALS[temp]] = []\n",
    "\n",
    "# convert -1s to 0s\n",
    "for entry in data:\n",
    "    for index in range(L*L):\n",
    "        if entry[index] == -1:\n",
    "            entry[index] = 0\n",
    "\n",
    "# extract spin configs values \n",
    "for temp in range(NUM_TEMPS):\n",
    "    for bin in range(NUM_BINS):            \n",
    "        raw_spin_configs[temp][bin] = data[(temp * NUM_BINS) + bin].reshape(L, L)\n",
    "\n",
    "# populate data dictionary with numpy array of temps\n",
    "for temp in range(NUM_TEMPS):\n",
    "    data_dict[TEMP_VALS[temp]] = raw_spin_configs[temp]\n",
    "\n",
    "# initialize arrays for training and testing images and labels\n",
    "train_images = np.zeros(shape=(NUM_TRAIN, L, L))\n",
    "shuffled_images = train_images\n",
    "\n",
    "train_labels = np.zeros(NUM_TRAIN, dtype=int)\n",
    "shuffled_labels = train_labels\n",
    "\n",
    "test_images = np.zeros(shape=(NUM_TEST, L, L))\n",
    "shuffled_test_images = test_images\n",
    "\n",
    "test_labels = np.zeros(NUM_TEST, dtype=int)\n",
    "shuffled_test_labels = test_labels\n",
    "\n",
    "\n",
    "# populate train images and train labels with spin configs\n",
    "offset = 0\n",
    "for temp, array in data_dict.items():\n",
    "    train_images[(TRAIN_BINS * offset):(TRAIN_BINS * (offset+1))] = array[0:TRAIN_BINS]\n",
    "    test_images[(TEST_BINS * offset):(TEST_BINS * (offset+1))] = array[TRAIN_BINS:]\n",
    "    \n",
    "    # if lower than T_c, should be a 0\n",
    "    if temp < 2.269:\n",
    "        train_labels[(TRAIN_BINS * offset):(TRAIN_BINS * (offset+1))] = np.zeros(TRAIN_BINS)\n",
    "        test_labels[(TEST_BINS * offset):(TEST_BINS * (offset+1))] = np.zeros(TEST_BINS)\n",
    "    else:\n",
    "        train_labels[(TRAIN_BINS * offset):(TRAIN_BINS * (offset+1))] = np.ones(TRAIN_BINS)\n",
    "        test_labels[(TEST_BINS * offset):(TEST_BINS * (offset+1))] = np.ones(TEST_BINS)\n",
    "    \n",
    "    offset += 1\n",
    "\n",
    "def shuffle_pairs(a, b):\n",
    "    assert len(a) == len(b)\n",
    "    p = np.random.permutation(len(a))\n",
    "    return a[p], b[p]\n",
    "\n",
    "\n",
    "# shuffle our images and labels according to the same permutation\n",
    "shuffled_images, shuffled_labels = shuffle_pairs(train_images, train_labels)\n",
    "\n",
    "# shuffle test images and labels\n",
    "shuffled_test_images, shuffled_test_labels = shuffle_pairs(test_images, test_labels)"
   ]
  },
  {
   "cell_type": "code",
   "execution_count": 79,
   "id": "fe224a46-67b0-4d16-a756-00e782d2c27a",
   "metadata": {},
   "outputs": [],
   "source": [
    "model = tf.keras.Sequential([\n",
    "    tf.keras.layers.Flatten(input_shape=(L, L)),\n",
    "    tf.keras.layers.Dense(128, activation='relu'),\n",
    "    tf.keras.layers.Dense(2)\n",
    "])"
   ]
  },
  {
   "cell_type": "code",
   "execution_count": 80,
   "id": "526f16d2-e894-4d7c-8d9b-08c6a17f147a",
   "metadata": {},
   "outputs": [],
   "source": [
    "model.compile(optimizer='adam',\n",
    "              loss=tf.keras.losses.SparseCategoricalCrossentropy(from_logits=True),\n",
    "              metrics=['accuracy'])"
   ]
  },
  {
   "cell_type": "code",
   "execution_count": 81,
   "id": "3a115776-a57c-41f4-8f26-acd223ba0e4c",
   "metadata": {},
   "outputs": [
    {
     "name": "stdout",
     "output_type": "stream",
     "text": [
      "Epoch 1/10\n",
      "500/500 [==============================] - 2s 2ms/step - loss: 0.0919 - accuracy: 0.9852\n",
      "Epoch 2/10\n",
      "500/500 [==============================] - 1s 2ms/step - loss: 0.0058 - accuracy: 0.9999\n",
      "Epoch 3/10\n",
      "500/500 [==============================] - 1s 2ms/step - loss: 0.0022 - accuracy: 1.0000\n",
      "Epoch 4/10\n",
      "500/500 [==============================] - 1s 2ms/step - loss: 0.0011 - accuracy: 1.0000\n",
      "Epoch 5/10\n",
      "500/500 [==============================] - 1s 2ms/step - loss: 6.7280e-04 - accuracy: 1.0000\n",
      "Epoch 6/10\n",
      "500/500 [==============================] - 1s 2ms/step - loss: 4.2664e-04 - accuracy: 1.0000\n",
      "Epoch 7/10\n",
      "500/500 [==============================] - 1s 3ms/step - loss: 2.8799e-04 - accuracy: 1.0000\n",
      "Epoch 8/10\n",
      "500/500 [==============================] - 1s 2ms/step - loss: 1.8942e-04 - accuracy: 1.0000\n",
      "Epoch 9/10\n",
      "500/500 [==============================] - 1s 3ms/step - loss: 1.3483e-04 - accuracy: 1.0000\n",
      "Epoch 10/10\n",
      "500/500 [==============================] - 1s 2ms/step - loss: 9.9447e-05 - accuracy: 1.0000\n"
     ]
    },
    {
     "data": {
      "text/plain": [
       "<keras.callbacks.History at 0x7f8f6d79bd10>"
      ]
     },
     "execution_count": 81,
     "metadata": {},
     "output_type": "execute_result"
    }
   ],
   "source": [
    "model.fit(shuffled_images, shuffled_labels, epochs=10)"
   ]
  },
  {
   "cell_type": "code",
   "execution_count": 82,
   "id": "fe46b02f-f9d0-4437-bafb-b6dec2a2ba12",
   "metadata": {},
   "outputs": [
    {
     "name": "stdout",
     "output_type": "stream",
     "text": [
      "125/125 - 0s - loss: 3.5310e-04 - accuracy: 0.9998 - 441ms/epoch - 4ms/step\n",
      "\n",
      "Test accuracy: 0.999750018119812\n"
     ]
    }
   ],
   "source": [
    "test_loss, test_acc = model.evaluate(shuffled_test_images,  shuffled_test_labels, verbose=2)\n",
    "\n",
    "print('\\nTest accuracy:', test_acc)"
   ]
  },
  {
   "cell_type": "code",
   "execution_count": 83,
   "id": "72240eef-4241-4eee-b3e1-50a5c06e247d",
   "metadata": {},
   "outputs": [
    {
     "data": {
      "image/png": "[encoded data removed]",
      "text/plain": [
       "<Figure size 1000x1000 with 16 Axes>"
      ]
     },
     "metadata": {},
     "output_type": "display_data"
    }
   ],
   "source": [
    "import tensorflow as tf\n",
    "\n",
    "plt.figure(figsize=(10,10))\n",
    "\n",
    "for i in range(16):\n",
    "    plt.subplot(4,4,i+1)\n",
    "    plt.xticks([])\n",
    "    plt.yticks([])\n",
    "    plt.grid(False)\n",
    "    plt.imshow(shuffled_test_images[i], cmap=plt.cm.binary)\n",
    "plt.show()"
   ]
  },
  {
   "cell_type": "code",
   "execution_count": 84,
   "id": "2305a56a-c11f-4fc5-a732-c701685a9039",
   "metadata": {},
   "outputs": [],
   "source": [
    "probability_model = tf.keras.Sequential([model, \n",
    "                                         tf.keras.layers.Softmax()])"
   ]
  },
  {
   "cell_type": "code",
   "execution_count": 85,
   "id": "5c52638c-0e52-4c51-92e8-fedae23b093e",
   "metadata": {},
   "outputs": [
    {
     "name": "stdout",
     "output_type": "stream",
     "text": [
      "125/125 [==============================] - 0s 1ms/step\n"
     ]
    }
   ],
   "source": [
    "predictions = probability_model.predict(shuffled_test_images)"
   ]
  },
  {
   "cell_type": "code",
   "execution_count": 86,
   "id": "9aebaafc-d97a-44d9-b005-6f385bfc8f8a",
   "metadata": {},
   "outputs": [
    {
     "data": {
      "text/plain": [
       "array([5.7475554e-05, 9.9994254e-01], dtype=float32)"
      ]
     },
     "execution_count": 86,
     "metadata": {},
     "output_type": "execute_result"
    }
   ],
   "source": [
    "predictions[0]"
   ]
  },
  {
   "cell_type": "code",
   "execution_count": 87,
   "id": "00bb0a87-fcff-4365-844a-132e79b1d931",
   "metadata": {},
   "outputs": [
    {
     "data": {
      "text/plain": [
       "1"
      ]
     },
     "execution_count": 87,
     "metadata": {},
     "output_type": "execute_result"
    }
   ],
   "source": [
    "np.argmax(predictions[0])"
   ]
  },
  {
   "cell_type": "code",
   "execution_count": 89,
   "id": "21385327-f7b3-4a6c-b0c5-426553cda9e4",
   "metadata": {},
   "outputs": [
    {
     "data": {
      "text/plain": [
       "1"
      ]
     },
     "execution_count": 89,
     "metadata": {},
     "output_type": "execute_result"
    }
   ],
   "source": [
    "shuffled_test_labels[0]"
   ]
  },
  {
   "cell_type": "code",
   "execution_count": 90,
   "id": "55b8f961-be70-43dd-bd58-eef3c7c493ce",
   "metadata": {},
   "outputs": [],
   "source": [
    "def plot_image(i, predictions_array, true_label, img):\n",
    "  true_label, img = true_label[i], img[i]\n",
    "  plt.grid(False)\n",
    "  plt.xticks([])\n",
    "  plt.yticks([])\n",
    "\n",
    "  plt.imshow(img, cmap=plt.cm.binary)\n",
    "\n",
    "  predicted_label = np.argmax(predictions_array)\n",
    "  if predicted_label == true_label:\n",
    "    color = 'blue'\n",
    "  else:\n",
    "    color = 'red'\n",
    "\n",
    "  plt.xlabel(\"{} {:2.0f}% ({})\".format(class_names[predicted_label],\n",
    "                                100*np.max(predictions_array),\n",
    "                                class_names[true_label]),\n",
    "                                color=color)\n",
    "\n",
    "def plot_value_array(i, predictions_array, true_label):\n",
    "  true_label = true_label[i]\n",
    "  plt.grid(False)\n",
    "  plt.xticks(range(2))\n",
    "  plt.yticks([])\n",
    "  thisplot = plt.bar(range(2), predictions_array, color=\"#777777\")\n",
    "  plt.ylim([0, 1])\n",
    "  predicted_label = np.argmax(predictions_array)\n",
    "\n",
    "  thisplot[predicted_label].set_color('red')\n",
    "  thisplot[true_label].set_color('blue')"
   ]
  },
  {
   "cell_type": "code",
   "execution_count": 91,
   "id": "413feb2e-9ac9-4bce-8ca0-1e9a9bda0f10",
   "metadata": {},
   "outputs": [
    {
     "data": {
      "image/png": "[encoded data removed]",
      "text/plain": [
       "<Figure size 600x300 with 2 Axes>"
      ]
     },
     "metadata": {},
     "output_type": "display_data"
    }
   ],
   "source": [
    "i = 0\n",
    "plt.figure(figsize=(6,3))\n",
    "plt.subplot(1,2,1)\n",
    "plot_image(i, predictions[i], shuffled_test_labels, shuffled_test_images)\n",
    "plt.subplot(1,2,2)\n",
    "plot_value_array(i, predictions[i], shuffled_test_labels)\n",
    "plt.show()"
   ]
  },
  {
   "cell_type": "code",
   "execution_count": 92,
   "id": "950594ac-53b6-4cfb-a5f9-d9dc9b8e2864",
   "metadata": {},
   "outputs": [
    {
     "data": {
      "image/png": "[encoded data removed]",
      "text/plain": [
       "<Figure size 1200x1000 with 30 Axes>"
      ]
     },
     "metadata": {},
     "output_type": "display_data"
    }
   ],
   "source": [
    "# Plot the first X test images, their predicted labels, and the true labels.\n",
    "# Color correct predictions in blue and incorrect predictions in red.\n",
    "num_rows = 5\n",
    "num_cols = 3\n",
    "num_images = num_rows*num_cols\n",
    "plt.figure(figsize=(2*2*num_cols, 2*num_rows))\n",
    "for i in range(num_images):\n",
    "  plt.subplot(num_rows, 2*num_cols, 2*i+1)\n",
    "  plot_image(i, predictions[i], shuffled_test_labels, shuffled_test_images)\n",
    "  plt.subplot(num_rows, 2*num_cols, 2*i+2)\n",
    "  plot_value_array(i, predictions[i], shuffled_test_labels)\n",
    "plt.tight_layout()\n",
    "plt.show()"
   ]
  },
  {
   "cell_type": "markdown",
   "id": "980bffc6-ffd0-4058-ac42-633cde0629a3",
   "metadata": {},
   "source": [
    "## Classifying 8x8 again with more temperatures"
   ]
  },
  {
   "cell_type": "code",
   "execution_count": 3,
   "id": "bca921cd-3d65-402e-b88c-f46d6606d8dd",
   "metadata": {},
   "outputs": [
    {
     "name": "stderr",
     "output_type": "stream",
     "text": [
      "2024-03-08 11:29:59.837281: I tensorflow/core/platform/cpu_feature_guard.cc:182] This TensorFlow binary is optimized to use available CPU instructions in performance-critical operations.\n",
      "To enable the following instructions: SSE4.1 SSE4.2 AVX AVX2 FMA, in other operations, rebuild TensorFlow with the appropriate compiler flags.\n"
     ]
    }
   ],
   "source": [
    "import tensorflow as tf\n",
    "\n",
    "FILENAME = \"advancedimage8x8\"\n",
    "\n",
    "TEMP_VALS = [0.5, 1.0, 1.5, 2.0, 2.5, 3.0, 3.5, 4.0, 4.5]\n",
    "NUM_TEMPS = len(TEMP_VALS)\n",
    "NUM_BINS = 1000\n",
    "TRAIN_BINS = int(0.8 * NUM_BINS)\n",
    "TEST_BINS = int(0.2 * NUM_BINS)\n",
    "NUM_TRAIN = int(TRAIN_BINS * NUM_TEMPS)\n",
    "NUM_TEST = int(TEST_BINS * NUM_TEMPS)\n",
    "\n",
    "L = 8\n",
    "\n",
    "import matplotlib.pyplot as plt\n",
    "import numpy as np\n",
    "\n",
    "file_string = \"../data/spinconfigs/spinConfigs_\" + FILENAME + \".txt\"\n",
    "\n",
    "data = np.loadtxt(file_string)\n",
    "\n",
    "raw_spin_configs = np.zeros(shape=(NUM_TEMPS, NUM_BINS, L, L))\n",
    "\n",
    "data_dict = {}\n",
    "\n",
    "# initialize data dictionary\n",
    "for temp in range(NUM_TEMPS):\n",
    "    data_dict[TEMP_VALS[temp]] = []\n",
    "\n",
    "# convert -1s to 0s\n",
    "for entry in data:\n",
    "    for index in range(L*L):\n",
    "        if entry[index] == -1:\n",
    "            entry[index] = 0\n",
    "\n",
    "# extract spin configs values \n",
    "for temp in range(NUM_TEMPS):\n",
    "    for bin in range(NUM_BINS):            \n",
    "        raw_spin_configs[temp][bin] = data[(temp * NUM_BINS) + bin].reshape(L, L)\n",
    "\n",
    "# populate data dictionary with numpy array of temps\n",
    "for temp in range(NUM_TEMPS):\n",
    "    data_dict[TEMP_VALS[temp]] = raw_spin_configs[temp]\n",
    "\n",
    "# initialize arrays for training and testing images and labels\n",
    "train_images = np.zeros(shape=(NUM_TRAIN, L, L))\n",
    "shuffled_images = train_images\n",
    "\n",
    "train_labels = np.zeros(NUM_TRAIN, dtype=int)\n",
    "shuffled_labels = train_labels\n",
    "\n",
    "test_images = np.zeros(shape=(NUM_TEST, L, L))\n",
    "shuffled_test_images = test_images\n",
    "\n",
    "test_labels = np.zeros(NUM_TEST, dtype=int)\n",
    "shuffled_test_labels = test_labels\n",
    "\n",
    "\n",
    "# populate train images and train labels with spin configs\n",
    "offset = 0\n",
    "for temp, array in data_dict.items():\n",
    "    train_images[(TRAIN_BINS * offset):(TRAIN_BINS * (offset+1))] = array[0:TRAIN_BINS]\n",
    "    test_images[(TEST_BINS * offset):(TEST_BINS * (offset+1))] = array[TRAIN_BINS:]\n",
    "    \n",
    "    # if lower than T_c, should be a 0\n",
    "    if temp < 2.269:\n",
    "        train_labels[(TRAIN_BINS * offset):(TRAIN_BINS * (offset+1))] = np.zeros(TRAIN_BINS)\n",
    "        test_labels[(TEST_BINS * offset):(TEST_BINS * (offset+1))] = np.zeros(TEST_BINS)\n",
    "    else:\n",
    "        train_labels[(TRAIN_BINS * offset):(TRAIN_BINS * (offset+1))] = np.ones(TRAIN_BINS)\n",
    "        test_labels[(TEST_BINS * offset):(TEST_BINS * (offset+1))] = np.ones(TEST_BINS)\n",
    "    \n",
    "    offset += 1\n",
    "\n",
    "\n",
    "def shuffle_pairs(a, b):\n",
    "    assert len(a) == len(b)\n",
    "    p = np.random.permutation(len(a))\n",
    "    return a[p], b[p]\n",
    "\n",
    "# shuffle our images and labels according to the same permutation\n",
    "shuffled_images, shuffled_labels = shuffle_pairs(train_images, train_labels)\n",
    "\n",
    "# shuffle test images and labels\n",
    "shuffled_test_images, shuffled_test_labels = shuffle_pairs(test_images, test_labels)"
   ]
  },
  {
   "cell_type": "code",
   "execution_count": 4,
   "id": "7b248b9c-cf9e-4373-b713-da2650abd197",
   "metadata": {},
   "outputs": [
    {
     "name": "stderr",
     "output_type": "stream",
     "text": [
      "2024-03-08 11:30:05.558352: I tensorflow/core/common_runtime/process_util.cc:146] Creating new thread pool with default inter op setting: 2. Tune using inter_op_parallelism_threads for best performance.\n"
     ]
    }
   ],
   "source": [
    "model = tf.keras.Sequential([\n",
    "    tf.keras.layers.Flatten(input_shape=(L, L)),\n",
    "    tf.keras.layers.Dense(128, activation='relu'),\n",
    "    tf.keras.layers.Dense(2)\n",
    "])"
   ]
  },
  {
   "cell_type": "code",
   "execution_count": null,
   "id": "4198d1a1-5113-44c8-9e16-c9cccd7a492e",
   "metadata": {},
   "outputs": [],
   "source": [
    "model.compile(optimizer='adam',\n",
    "              loss=tf.keras.losses.SparseCategoricalCrossentropy(from_logits=True),\n",
    "              metrics=['accuracy'])"
   ]
  },
  {
   "cell_type": "code",
   "execution_count": 4,
   "id": "143554c7-1e81-4d3a-9152-a63f6c625035",
   "metadata": {
    "scrolled": true
   },
   "outputs": [
    {
     "ename": "NameError",
     "evalue": "name 'model' is not defined",
     "output_type": "error",
     "traceback": [
      "\u001b[0;31m---------------------------------------------------------------------------\u001b[0m",
      "\u001b[0;31mNameError\u001b[0m                                 Traceback (most recent call last)",
      "Cell \u001b[0;32mIn[4], line 1\u001b[0m\n\u001b[0;32m----> 1\u001b[0m \u001b[43mmodel\u001b[49m\u001b[38;5;241m.\u001b[39mfit(shuffled_images, shuffled_labels, epochs\u001b[38;5;241m=\u001b[39m\u001b[38;5;241m20\u001b[39m)\n",
      "\u001b[0;31mNameError\u001b[0m: name 'model' is not defined"
     ]
    }
   ],
   "source": [
    "model.fit(shuffled_images, shuffled_labels, epochs=20)"
   ]
  },
  {
   "cell_type": "code",
   "execution_count": 102,
   "id": "92cad149-631f-4a89-aafe-d5aa6f088d3d",
   "metadata": {},
   "outputs": [
    {
     "name": "stdout",
     "output_type": "stream",
     "text": [
      "57/57 - 0s - loss: 0.1598 - accuracy: 0.9506 - 420ms/epoch - 7ms/step\n",
      "\n",
      "Test accuracy: 0.9505555629730225\n"
     ]
    }
   ],
   "source": [
    "test_loss, test_acc = model.evaluate(shuffled_test_images,  shuffled_test_labels, verbose=2)\n",
    "\n",
    "print('\\nTest accuracy:', test_acc)"
   ]
  },
  {
   "cell_type": "code",
   "execution_count": 103,
   "id": "8134fc5a-ea9c-40b2-9829-b57c3168c1fd",
   "metadata": {},
   "outputs": [
    {
     "data": {
      "image/png": "[encoded data removed]",
      "text/plain": [
       "<Figure size 1000x1000 with 16 Axes>"
      ]
     },
     "metadata": {},
     "output_type": "display_data"
    }
   ],
   "source": [
    "import tensorflow as tf\n",
    "\n",
    "plt.figure(figsize=(10,10))\n",
    "\n",
    "for i in range(16):\n",
    "    plt.subplot(4,4,i+1)\n",
    "    plt.xticks([])\n",
    "    plt.yticks([])\n",
    "    plt.grid(False)\n",
    "    plt.imshow(shuffled_test_images[i], cmap=plt.cm.binary)\n",
    "plt.show()"
   ]
  },
  {
   "cell_type": "code",
   "execution_count": 104,
   "id": "93d8be7d-7ed4-4e14-b8d9-52110e88e911",
   "metadata": {},
   "outputs": [],
   "source": [
    "probability_model = tf.keras.Sequential([model, \n",
    "                                         tf.keras.layers.Softmax()])"
   ]
  },
  {
   "cell_type": "code",
   "execution_count": 105,
   "id": "d78af8d5-94a3-4b43-b2bb-79ce8521ccee",
   "metadata": {},
   "outputs": [
    {
     "name": "stdout",
     "output_type": "stream",
     "text": [
      "57/57 [==============================] - 0s 2ms/step\n"
     ]
    }
   ],
   "source": [
    "predictions = probability_model.predict(shuffled_test_images)"
   ]
  },
  {
   "cell_type": "code",
   "execution_count": 1,
   "id": "01773dff-609c-4341-bfe9-e4368e826757",
   "metadata": {},
   "outputs": [
    {
     "ename": "NameError",
     "evalue": "name 'predictions' is not defined",
     "output_type": "error",
     "traceback": [
      "\u001b[0;31m---------------------------------------------------------------------------\u001b[0m",
      "\u001b[0;31mNameError\u001b[0m                                 Traceback (most recent call last)",
      "Cell \u001b[0;32mIn[1], line 1\u001b[0m\n\u001b[0;32m----> 1\u001b[0m \u001b[38;5;28mprint\u001b[39m(\u001b[43mpredictions\u001b[49m)\n",
      "\u001b[0;31mNameError\u001b[0m: name 'predictions' is not defined"
     ]
    }
   ],
   "source": [
    "print(predictions)"
   ]
  },
  {
   "cell_type": "code",
   "execution_count": 106,
   "id": "c528756c-c6bc-42eb-a55e-0a02777ed935",
   "metadata": {},
   "outputs": [],
   "source": [
    "def plot_image(i, predictions_array, true_label, img):\n",
    "    true_label, img = true_label[i], img[i]\n",
    "    plt.grid(False)\n",
    "    plt.xticks([])\n",
    "    plt.yticks([])\n",
    "\n",
    "    plt.imshow(img, cmap=plt.cm.binary)\n",
    "\n",
    "    predicted_label = np.argmax(predictions_array)\n",
    "    if predicted_label == true_label:\n",
    "        color = 'blue'\n",
    "    else:\n",
    "        color = 'red'\n",
    "\n",
    "    plt.xlabel(\"{} {:2.0f}% ({})\".format(class_names[predicted_label],\n",
    "                                100*np.max(predictions_array),\n",
    "                                class_names[true_label]),\n",
    "                                color=color)\n",
    "\n",
    "def plot_value_array(i, predictions_array, true_label):\n",
    "    true_label = true_label[i]\n",
    "    plt.grid(False)\n",
    "    plt.xticks(range(2))\n",
    "    plt.yticks([])\n",
    "    thisplot = plt.bar(range(2), predictions_array, color=\"#777777\")\n",
    "    plt.ylim([0, 1])\n",
    "    predicted_label = np.argmax(predictions_array)\n",
    "\n",
    "    thisplot[predicted_label].set_color('red')\n",
    "    thisplot[true_label].set_color('blue')"
   ]
  },
  {
   "cell_type": "code",
   "execution_count": 108,
   "id": "e00643ed-bbb6-45dc-a870-68b88c4a7c1e",
   "metadata": {},
   "outputs": [
    {
     "data": {
      "image/png": "[encoded data removed]",
      "text/plain": [
       "<Figure size 1200x1000 with 30 Axes>"
      ]
     },
     "metadata": {},
     "output_type": "display_data"
    }
   ],
   "source": [
    "# Plot the first X test images, their predicted labels, and the true labels.\n",
    "# Color correct predictions in blue and incorrect predictions in red.\n",
    "num_rows = 5\n",
    "num_cols = 3\n",
    "num_images = num_rows*num_cols\n",
    "plt.figure(figsize=(2*2*num_cols, 2*num_rows))\n",
    "for i in range(num_images):\n",
    "  plt.subplot(num_rows, 2*num_cols, 2*i+1)\n",
    "  plot_image(i, predictions[i], shuffled_test_labels, shuffled_test_images)\n",
    "  plt.subplot(num_rows, 2*num_cols, 2*i+2)\n",
    "  plot_value_array(i, predictions[i], shuffled_test_labels)\n",
    "plt.tight_layout()\n",
    "plt.savefig(\"8x8range.png\", bbox_inches='tight')\n",
    "plt.show()"
   ]
  },
  {
   "cell_type": "markdown",
   "id": "1dd39d0f-6b0b-463d-8bd3-463e309ffc1a",
   "metadata": {},
   "source": [
    "## Basic XY model "
   ]
  },
  {
   "cell_type": "code",
   "execution_count": 8,
   "id": "6e5d357b-deff-4077-a01c-784044cc696c",
   "metadata": {},
   "outputs": [],
   "source": [
    "import tensorflow as tf\n",
    "\n",
    "FILENAME = \"xyadvanced4x4\"\n",
    "\n",
    "TEMP_VALS = [0.5, 4.5]\n",
    "NUM_TEMPS = len(TEMP_VALS)\n",
    "NUM_BINS = 1000\n",
    "TRAIN_BINS = int(0.8 * NUM_BINS)\n",
    "TEST_BINS = int(0.2 * NUM_BINS)\n",
    "NUM_TRAIN = int(TRAIN_BINS * NUM_TEMPS)\n",
    "NUM_TEST = int(TEST_BINS * NUM_TEMPS)\n",
    "\n",
    "L = 4\n",
    "\n",
    "import matplotlib.pyplot as plt\n",
    "import numpy as np\n",
    "\n",
    "file_string = \"../data/spinconfigs/spinConfigs_\" + FILENAME + \".txt\"\n",
    "\n",
    "data = np.loadtxt(file_string)\n",
    "\n",
    "raw_spin_configs = np.zeros(shape=(NUM_TEMPS, NUM_BINS, L, L))\n",
    "\n",
    "data_dict = {}\n",
    "\n",
    "# initialize data dictionary\n",
    "for temp in range(NUM_TEMPS):\n",
    "    data_dict[TEMP_VALS[temp]] = []\n",
    "\n",
    "# convert -1s to 0s\n",
    "for entry in data:\n",
    "    for index in range(L*L):\n",
    "        if entry[index] == -1:\n",
    "            entry[index] = 0\n",
    "\n",
    "# extract spin configs values \n",
    "for temp in range(NUM_TEMPS):\n",
    "    for bin in range(NUM_BINS):            \n",
    "        raw_spin_configs[temp][bin] = data[(temp * NUM_BINS) + bin].reshape(L, L)\n",
    "\n",
    "# populate data dictionary with numpy array of temps\n",
    "for temp in range(NUM_TEMPS):\n",
    "    data_dict[TEMP_VALS[temp]] = raw_spin_configs[temp]\n",
    "\n",
    "# initialize arrays for training and testing images and labels\n",
    "train_images = np.zeros(shape=(NUM_TRAIN, L, L))\n",
    "shuffled_images = train_images\n",
    "\n",
    "train_labels = np.zeros(NUM_TRAIN, dtype=int)\n",
    "shuffled_labels = train_labels\n",
    "\n",
    "test_images = np.zeros(shape=(NUM_TEST, L, L))\n",
    "shuffled_test_images = test_images\n",
    "\n",
    "test_labels = np.zeros(NUM_TEST, dtype=int)\n",
    "shuffled_test_labels = test_labels\n",
    "\n",
    "\n",
    "# populate train images and train labels with spin configs\n",
    "offset = 0\n",
    "for temp, array in data_dict.items():\n",
    "    train_images[(TRAIN_BINS * offset):(TRAIN_BINS * (offset+1))] = array[0:TRAIN_BINS]\n",
    "    test_images[(TEST_BINS * offset):(TEST_BINS * (offset+1))] = array[TRAIN_BINS:]\n",
    "    \n",
    "    # if lower than T_c, should be a 0\n",
    "    if temp < 2.269:\n",
    "        train_labels[(TRAIN_BINS * offset):(TRAIN_BINS * (offset+1))] = np.zeros(TRAIN_BINS)\n",
    "        test_labels[(TEST_BINS * offset):(TEST_BINS * (offset+1))] = np.zeros(TEST_BINS)\n",
    "    else:\n",
    "        train_labels[(TRAIN_BINS * offset):(TRAIN_BINS * (offset+1))] = np.ones(TRAIN_BINS)\n",
    "        test_labels[(TEST_BINS * offset):(TEST_BINS * (offset+1))] = np.ones(TEST_BINS)\n",
    "    \n",
    "    offset += 1\n",
    "\n",
    "\n",
    "def shuffle_pairs(a, b):\n",
    "    assert len(a) == len(b)\n",
    "    p = np.random.permutation(len(a))\n",
    "    return a[p], b[p]\n",
    "\n",
    "# shuffle our images and labels according to the same permutation\n",
    "shuffled_images, shuffled_labels = shuffle_pairs(train_images, train_labels)\n",
    "\n",
    "# shuffle test images and labels\n",
    "shuffled_test_images, shuffled_test_labels = shuffle_pairs(test_images, test_labels)"
   ]
  },
  {
   "cell_type": "code",
   "execution_count": 9,
   "id": "fda0af1b-163e-4f4c-b916-4c8f8891bd61",
   "metadata": {
    "scrolled": true
   },
   "outputs": [
    {
     "name": "stdout",
     "output_type": "stream",
     "text": [
      "[[4.62963733 5.27692364 4.7608525  4.51389056]\n",
      " [5.7307679  5.2352133  5.17664454 5.46540952]\n",
      " [5.5226462  5.03317593 4.68188527 4.80876399]\n",
      " [4.48892523 4.73007476 4.25651242 4.6108651 ]]\n"
     ]
    }
   ],
   "source": [
    "print(test_images[0])"
   ]
  },
  {
   "cell_type": "code",
   "execution_count": 10,
   "id": "ed4b5307-1712-4dc5-8ec6-56839a616ccf",
   "metadata": {},
   "outputs": [],
   "source": [
    "model = tf.keras.Sequential([\n",
    "    tf.keras.layers.Flatten(input_shape=(L, L)),\n",
    "    tf.keras.layers.Dense(128, activation='relu'),\n",
    "    tf.keras.layers.Dense(2)\n",
    "])"
   ]
  },
  {
   "cell_type": "code",
   "execution_count": 11,
   "id": "9c6402f0-e433-4f77-9193-b505326a17fd",
   "metadata": {},
   "outputs": [],
   "source": [
    "model.compile(optimizer='adam',\n",
    "              loss=tf.keras.losses.SparseCategoricalCrossentropy(from_logits=True),\n",
    "              metrics=['accuracy'])"
   ]
  },
  {
   "cell_type": "code",
   "execution_count": 12,
   "id": "7072c3d7-e4ec-4a27-8719-14a04a771bd9",
   "metadata": {},
   "outputs": [
    {
     "name": "stdout",
     "output_type": "stream",
     "text": [
      "Epoch 1/20\n",
      "50/50 [==============================] - 1s 3ms/step - loss: 0.6060 - accuracy: 0.7150\n",
      "Epoch 2/20\n",
      "50/50 [==============================] - 0s 3ms/step - loss: 0.5071 - accuracy: 0.8300\n",
      "Epoch 3/20\n",
      "50/50 [==============================] - 0s 2ms/step - loss: 0.4745 - accuracy: 0.8544\n",
      "Epoch 4/20\n",
      "50/50 [==============================] - 0s 3ms/step - loss: 0.4494 - accuracy: 0.8744\n",
      "Epoch 5/20\n",
      "50/50 [==============================] - 0s 4ms/step - loss: 0.4326 - accuracy: 0.8788\n",
      "Epoch 6/20\n",
      "50/50 [==============================] - 0s 3ms/step - loss: 0.4067 - accuracy: 0.8819\n",
      "Epoch 7/20\n",
      "50/50 [==============================] - 0s 4ms/step - loss: 0.3884 - accuracy: 0.8931\n",
      "Epoch 8/20\n",
      "50/50 [==============================] - 0s 4ms/step - loss: 0.3732 - accuracy: 0.8906\n",
      "Epoch 9/20\n",
      "50/50 [==============================] - 0s 5ms/step - loss: 0.3540 - accuracy: 0.8950\n",
      "Epoch 10/20\n",
      "50/50 [==============================] - 0s 3ms/step - loss: 0.3484 - accuracy: 0.8938\n",
      "Epoch 11/20\n",
      "50/50 [==============================] - 0s 3ms/step - loss: 0.3331 - accuracy: 0.9062\n",
      "Epoch 12/20\n",
      "50/50 [==============================] - 0s 4ms/step - loss: 0.3182 - accuracy: 0.9056\n",
      "Epoch 13/20\n",
      "50/50 [==============================] - 0s 3ms/step - loss: 0.3078 - accuracy: 0.9137\n",
      "Epoch 14/20\n",
      "50/50 [==============================] - 0s 3ms/step - loss: 0.2881 - accuracy: 0.9244\n",
      "Epoch 15/20\n",
      "50/50 [==============================] - 0s 3ms/step - loss: 0.2784 - accuracy: 0.9262\n",
      "Epoch 16/20\n",
      "50/50 [==============================] - 0s 2ms/step - loss: 0.2749 - accuracy: 0.9206\n",
      "Epoch 17/20\n",
      "50/50 [==============================] - 0s 2ms/step - loss: 0.2659 - accuracy: 0.9237\n",
      "Epoch 18/20\n",
      "50/50 [==============================] - 0s 2ms/step - loss: 0.2501 - accuracy: 0.9275\n",
      "Epoch 19/20\n",
      "50/50 [==============================] - 0s 2ms/step - loss: 0.2452 - accuracy: 0.9350\n",
      "Epoch 20/20\n",
      "50/50 [==============================] - 0s 2ms/step - loss: 0.2364 - accuracy: 0.9369\n"
     ]
    },
    {
     "data": {
      "text/plain": [
       "<keras.callbacks.History at 0x7fde50357e90>"
      ]
     },
     "execution_count": 12,
     "metadata": {},
     "output_type": "execute_result"
    }
   ],
   "source": [
    "model.fit(shuffled_images, shuffled_labels, epochs=20)"
   ]
  },
  {
   "cell_type": "code",
   "execution_count": 13,
   "id": "48ac1621-475c-4a13-8ec2-fc1a6903f49f",
   "metadata": {},
   "outputs": [
    {
     "name": "stdout",
     "output_type": "stream",
     "text": [
      "13/13 - 0s - loss: 0.4403 - accuracy: 0.8850 - 250ms/epoch - 19ms/step\n",
      "\n",
      "Test accuracy: 0.8849999904632568\n"
     ]
    }
   ],
   "source": [
    "test_loss, test_acc = model.evaluate(shuffled_test_images,  shuffled_test_labels, verbose=2)\n",
    "\n",
    "print('\\nTest accuracy:', test_acc)"
   ]
  },
  {
   "cell_type": "code",
   "execution_count": 14,
   "id": "7f34b85d-ee8f-4cb4-9111-08ef9b77c092",
   "metadata": {},
   "outputs": [
    {
     "data": {
      "image/png": "[encoded data removed]",
      "text/plain": [
       "<Figure size 1000x1000 with 16 Axes>"
      ]
     },
     "metadata": {},
     "output_type": "display_data"
    }
   ],
   "source": [
    "import tensorflow as tf\n",
    "\n",
    "plt.figure(figsize=(10,10))\n",
    "\n",
    "for i in range(16):\n",
    "    plt.subplot(4,4,i+1)\n",
    "    plt.xticks([])\n",
    "    plt.yticks([])\n",
    "    plt.grid(False)\n",
    "    plt.imshow(shuffled_test_images[i], cmap=plt.cm.binary)\n",
    "plt.show()"
   ]
  },
  {
   "cell_type": "code",
   "execution_count": 15,
   "id": "8560790f-018a-42db-8ef4-cdaecf2675fd",
   "metadata": {},
   "outputs": [],
   "source": [
    "probability_model = tf.keras.Sequential([model, \n",
    "                                         tf.keras.layers.Softmax()])"
   ]
  },
  {
   "cell_type": "code",
   "execution_count": 16,
   "id": "8511ae58-0bee-4fbb-b51a-d3e7d6c7da33",
   "metadata": {},
   "outputs": [
    {
     "name": "stdout",
     "output_type": "stream",
     "text": [
      "13/13 [==============================] - 0s 2ms/step\n"
     ]
    }
   ],
   "source": [
    "predictions = probability_model.predict(shuffled_test_images)"
   ]
  },
  {
   "cell_type": "code",
   "execution_count": 17,
   "id": "d87b3ec8-748a-4d84-98b2-b715a52c742d",
   "metadata": {},
   "outputs": [],
   "source": [
    "def plot_image(i, predictions_array, true_label, img):\n",
    "    true_label, img = true_label[i], img[i]\n",
    "    plt.grid(False)\n",
    "    plt.xticks([])\n",
    "    plt.yticks([])\n",
    "\n",
    "    plt.imshow(img, cmap=plt.cm.binary)\n",
    "\n",
    "    predicted_label = np.argmax(predictions_array)\n",
    "    if predicted_label == true_label:\n",
    "        color = 'blue'\n",
    "    else:\n",
    "        color = 'red'\n",
    "\n",
    "    plt.xlabel(\"{} {:2.0f}% ({})\".format(class_names[predicted_label],\n",
    "                                100*np.max(predictions_array),\n",
    "                                class_names[true_label]),\n",
    "                                color=color)\n",
    "\n",
    "def plot_value_array(i, predictions_array, true_label):\n",
    "    true_label = true_label[i]\n",
    "    plt.grid(False)\n",
    "    plt.xticks(range(2))\n",
    "    plt.yticks([])\n",
    "    thisplot = plt.bar(range(2), predictions_array, color=\"#777777\")\n",
    "    plt.ylim([0, 1])\n",
    "    predicted_label = np.argmax(predictions_array)\n",
    "\n",
    "    thisplot[predicted_label].set_color('red')\n",
    "    thisplot[true_label].set_color('blue')"
   ]
  },
  {
   "cell_type": "code",
   "execution_count": 20,
   "id": "fd8e1d86-81c8-465a-af7c-5cec7a6598ad",
   "metadata": {},
   "outputs": [
    {
     "data": {
      "image/png": "[encoded data removed]",
      "text/plain": [
       "<Figure size 1200x1000 with 30 Axes>"
      ]
     },
     "metadata": {},
     "output_type": "display_data"
    }
   ],
   "source": [
    "# Plot the first X test images, their predicted labels, and the true labels.\n",
    "# Color correct predictions in blue and incorrect predictions in red.\n",
    "num_rows = 5\n",
    "num_cols = 3\n",
    "num_images = num_rows*num_cols\n",
    "plt.figure(figsize=(2*2*num_cols, 2*num_rows))\n",
    "for i in range(num_images):\n",
    "  plt.subplot(num_rows, 2*num_cols, 2*i+1)\n",
    "  plot_image(i, predictions[i], shuffled_test_labels, shuffled_test_images)\n",
    "  plt.subplot(num_rows, 2*num_cols, 2*i+2)\n",
    "  plot_value_array(i, predictions[i], shuffled_test_labels)\n",
    "plt.tight_layout()\n",
    "plt.savefig(\"8x8range.png\", bbox_inches='tight')\n",
    "plt.show()"
   ]
  },
  {
   "cell_type": "code",
   "execution_count": null,
   "id": "656fda87-2463-4988-b644-fc64cfdb72d4",
   "metadata": {},
   "outputs": [],
   "source": []
  }
 ],
 "metadata": {
  "kernelspec": {
   "display_name": "Python 3 (ipykernel)",
   "language": "python",
   "name": "python3"
  },
  "language_info": {
   "codemirror_mode": {
    "name": "ipython",
    "version": 3
   },
   "file_extension": ".py",
   "mimetype": "text/x-python",
   "name": "python",
   "nbconvert_exporter": "python",
   "pygments_lexer": "ipython3",
   "version": "3.11.5"
  }
 },
 "nbformat": 4,
 "nbformat_minor": 5
}

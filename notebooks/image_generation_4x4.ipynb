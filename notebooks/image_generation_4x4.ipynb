{
 "cells": [
  {
   "cell_type": "markdown",
   "id": "dd647e79-043b-455f-953e-13ad0dec0ba9",
   "metadata": {},
   "source": [
    "## Process 4x4 lattice spin configurations into graphable data"
   ]
  },
  {
   "cell_type": "code",
   "execution_count": 58,
   "id": "d757741d-c3d2-4b7f-a472-d024afa15552",
   "metadata": {},
   "outputs": [],
   "source": [
    "FILENAME = \"image4x4\"\n",
    "TEMP_VALS = [0.25, 4.75]\n",
    "NUM_TEMPS = len(TEMP_VALS)\n",
    "NUM_BINS = 10000\n",
    "L = 4\n",
    "\n",
    "import matplotlib.pyplot as plt\n",
    "import numpy as np\n",
    "\n",
    "file_string = \"../spinConfigs_\" + FILENAME + \".txt\"\n",
    "\n",
    "raw_spin_configs = []\n",
    "\n",
    "spin_configs_file = open(file_string, \"r\")\n",
    "for row in spin_configs_file:\n",
    "    row = row.split()\n",
    "    raw_spin_configs.append(row)\n",
    "\n",
    "# initialize dictionary to store temperature data and corresponding spin configurations\n",
    "data_dict = {}\n",
    "\n",
    "# populate keys for dictionary from temperature values\n",
    "for val in TEMP_VALS:\n",
    "    data_dict[val] = []\n",
    "\n",
    "# collect each set of 10000 spin configurations\n",
    "for temp in range(NUM_TEMPS):\n",
    "    for bin in range(NUM_BINS):\n",
    "        data_dict[TEMP_VALS[temp]].append(raw_spin_configs[(temp * NUM_BINS) + bin])\n",
    "\n",
    "    # convert all data to integers\n",
    "    for entry in data_dict[TEMP_VALS[temp]]:\n",
    "        for index in range(L*L):\n",
    "            entry[index] = int(entry[index])\n",
    "            if entry[index] == -1:\n",
    "                entry[index] = 0\n",
    "\n",
    "    # convert each entry to numpy array\n",
    "    data_dict[TEMP_VALS[temp]] = np.array(data_dict[TEMP_VALS[temp]])\n",
    "\n",
    "square_data_dict = {}\n",
    "\n",
    "# reshape dictionary arrays into LxL instead of \n",
    "for temp in range(NUM_TEMPS):\n",
    "    square_data_dict[TEMP_VALS[temp]] = data_dict[TEMP_VALS[temp]].reshape(NUM_BINS, L, L)\n",
    "\n",
    "train_labels = np.ones(NUM_BINS)"
   ]
  },
  {
   "cell_type": "code",
   "execution_count": 59,
   "id": "df7cdcbe-cf6d-460e-b544-9f1fc9dc6144",
   "metadata": {},
   "outputs": [
    {
     "data": {
      "image/png": "[encoded data removed]",
      "text/plain": [
       "<Figure size 1000x1000 with 25 Axes>"
      ]
     },
     "metadata": {},
     "output_type": "display_data"
    }
   ],
   "source": [
    "import tensorflow as tf\n",
    "\n",
    "plt.figure(figsize=(10,10))\n",
    "for i in range(25):\n",
    "    plt.subplot(5,5,i+1)\n",
    "    plt.xticks([])\n",
    "    plt.yticks([])\n",
    "    plt.grid(False)\n",
    "    plt.imshow(square_data_dict[4.75][i], cmap=plt.cm.binary)\n",
    "plt.show()"
   ]
  },
  {
   "cell_type": "markdown",
   "id": "b8524408-e503-4015-9a7f-586f137d3c42",
   "metadata": {},
   "source": [
    "## Do the same for 8x8!"
   ]
  },
  {
   "cell_type": "code",
   "execution_count": 65,
   "id": "304e3f8a-ab19-48a6-bd47-07a82d3693db",
   "metadata": {},
   "outputs": [],
   "source": [
    "FILENAME = \"image8x8\"\n",
    "TEMP_VALS = [0.25, 4.75]\n",
    "NUM_TEMPS = len(TEMP_VALS)\n",
    "NUM_BINS = 10000\n",
    "L = 8\n",
    "\n",
    "import matplotlib.pyplot as plt\n",
    "import numpy as np\n",
    "\n",
    "file_string = \"../spinConfigs_\" + FILENAME + \".txt\"\n",
    "\n",
    "raw_spin_configs = []\n",
    "\n",
    "spin_configs_file = open(file_string, \"r\")\n",
    "for row in spin_configs_file:\n",
    "    row = row.split()\n",
    "    raw_spin_configs.append(row)\n",
    "\n",
    "# initialize dictionary to store temperature data and corresponding spin configurations\n",
    "data_dict = {}\n",
    "\n",
    "# populate keys for dictionary from temperature values\n",
    "for val in TEMP_VALS:\n",
    "    data_dict[val] = []\n",
    "\n",
    "# collect each set of 10000 spin configurations\n",
    "for temp in range(NUM_TEMPS):\n",
    "    for bin in range(NUM_BINS):\n",
    "        data_dict[TEMP_VALS[temp]].append(raw_spin_configs[(temp * NUM_BINS) + bin])\n",
    "\n",
    "    # convert all data to integers\n",
    "    for entry in data_dict[TEMP_VALS[temp]]:\n",
    "        for index in range(L*L):\n",
    "            entry[index] = int(entry[index])\n",
    "            if entry[index] == -1:\n",
    "                entry[index] = 0\n",
    "\n",
    "    # convert each entry to numpy array\n",
    "    data_dict[TEMP_VALS[temp]] = np.array(data_dict[TEMP_VALS[temp]])\n",
    "\n",
    "square_data_dict = {}\n",
    "\n",
    "# reshape dictionary arrays into LxL instead of \n",
    "for temp in range(NUM_TEMPS):\n",
    "    square_data_dict[TEMP_VALS[temp]] = data_dict[TEMP_VALS[temp]].reshape(NUM_BINS, L, L)\n",
    "\n",
    "train_labels = np.ones(NUM_BINS)"
   ]
  },
  {
   "cell_type": "code",
   "execution_count": 66,
   "id": "72240eef-4241-4eee-b3e1-50a5c06e247d",
   "metadata": {},
   "outputs": [
    {
     "data": {
      "image/png": "[encoded data removed]",
      "text/plain": [
       "<Figure size 1000x1000 with 25 Axes>"
      ]
     },
     "metadata": {},
     "output_type": "display_data"
    }
   ],
   "source": [
    "import tensorflow as tf\n",
    "\n",
    "plt.figure(figsize=(10,10))\n",
    "for i in range(25):\n",
    "    plt.subplot(5,5,i+1)\n",
    "    plt.xticks([])\n",
    "    plt.yticks([])\n",
    "    plt.grid(False)\n",
    "    plt.imshow(square_data_dict[4.75][i], cmap=plt.cm.binary)\n",
    "plt.show()"
   ]
  },
  {
   "cell_type": "code",
   "execution_count": 60,
   "id": "aa430def-2e39-420f-a340-d7bee5472921",
   "metadata": {},
   "outputs": [],
   "source": [
    "model = tf.keras.Sequential([\n",
    "    tf.keras.layers.Flatten(input_shape=(L, L)),\n",
    "    tf.keras.layers.Dense(128, activation='relu'),\n",
    "    tf.keras.layers.Dense(2)\n",
    "])"
   ]
  },
  {
   "cell_type": "code",
   "execution_count": 61,
   "id": "250e4f8e-1738-4133-9d18-72c469f15601",
   "metadata": {},
   "outputs": [],
   "source": [
    "model.compile(optimizer='adam',\n",
    "              loss=tf.keras.losses.SparseCategoricalCrossentropy(from_logits=True),\n",
    "              metrics=['accuracy'])"
   ]
  },
  {
   "cell_type": "code",
   "execution_count": 62,
   "id": "979dfaea-2a96-4df9-9fab-1e24fb1a55d7",
   "metadata": {},
   "outputs": [
    {
     "name": "stdout",
     "output_type": "stream",
     "text": [
      "Epoch 1/10\n",
      "313/313 [==============================] - 2s 3ms/step - loss: 0.1698 - accuracy: 0.9774\n",
      "Epoch 2/10\n",
      "313/313 [==============================] - 1s 2ms/step - loss: 0.0030 - accuracy: 1.0000\n",
      "Epoch 3/10\n",
      "313/313 [==============================] - 1s 2ms/step - loss: 9.5930e-04 - accuracy: 1.0000\n",
      "Epoch 4/10\n",
      "313/313 [==============================] - 1s 3ms/step - loss: 4.5954e-04 - accuracy: 1.0000\n",
      "Epoch 5/10\n",
      "313/313 [==============================] - 1s 2ms/step - loss: 2.6445e-04 - accuracy: 1.0000\n",
      "Epoch 6/10\n",
      "313/313 [==============================] - 1s 2ms/step - loss: 1.6881e-04 - accuracy: 1.0000\n",
      "Epoch 7/10\n",
      "313/313 [==============================] - 1s 2ms/step - loss: 1.1490e-04 - accuracy: 1.0000\n",
      "Epoch 8/10\n",
      "313/313 [==============================] - 1s 3ms/step - loss: 8.1806e-05 - accuracy: 1.0000\n",
      "Epoch 9/10\n",
      "313/313 [==============================] - 1s 2ms/step - loss: 6.0253e-05 - accuracy: 1.0000\n",
      "Epoch 10/10\n",
      "313/313 [==============================] - 1s 2ms/step - loss: 4.5648e-05 - accuracy: 1.0000\n"
     ]
    },
    {
     "data": {
      "text/plain": [
       "<keras.callbacks.History at 0x7f098601cf90>"
      ]
     },
     "execution_count": 62,
     "metadata": {},
     "output_type": "execute_result"
    }
   ],
   "source": [
    "model.fit(square_data_dict[4.75], train_labels, epochs=10)"
   ]
  },
  {
   "cell_type": "code",
   "execution_count": 16,
   "id": "5d860a36-bc15-495f-b9d2-54178ff5e260",
   "metadata": {},
   "outputs": [
    {
     "name": "stdout",
     "output_type": "stream",
     "text": [
      "313/313 - 2s - loss: 0.3306 - accuracy: 0.8845 - 2s/epoch - 7ms/step\n",
      "\n",
      "Test accuracy: 0.8845000267028809\n"
     ]
    }
   ],
   "source": [
    "test_loss, test_acc = model.evaluate(test_images,  test_labels, verbose=2)\n",
    "\n",
    "print('\\nTest accuracy:', test_acc)"
   ]
  },
  {
   "cell_type": "code",
   "execution_count": 17,
   "id": "2305a56a-c11f-4fc5-a732-c701685a9039",
   "metadata": {},
   "outputs": [],
   "source": [
    "probability_model = tf.keras.Sequential([model, \n",
    "                                         tf.keras.layers.Softmax()])"
   ]
  },
  {
   "cell_type": "code",
   "execution_count": 18,
   "id": "5c52638c-0e52-4c51-92e8-fedae23b093e",
   "metadata": {},
   "outputs": [
    {
     "name": "stdout",
     "output_type": "stream",
     "text": [
      "313/313 [==============================] - 2s 6ms/step\n"
     ]
    }
   ],
   "source": [
    "predictions = probability_model.predict(test_images)"
   ]
  }
 ],
 "metadata": {
  "kernelspec": {
   "display_name": "Python 3 (ipykernel)",
   "language": "python",
   "name": "python3"
  },
  "language_info": {
   "codemirror_mode": {
    "name": "ipython",
    "version": 3
   },
   "file_extension": ".py",
   "mimetype": "text/x-python",
   "name": "python",
   "nbconvert_exporter": "python",
   "pygments_lexer": "ipython3",
   "version": "3.11.5"
  }
 },
 "nbformat": 4,
 "nbformat_minor": 5
}
